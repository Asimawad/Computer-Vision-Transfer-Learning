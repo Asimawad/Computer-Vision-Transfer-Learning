{
  "nbformat": 4,
  "nbformat_minor": 0,
  "metadata": {
    "colab": {
      "provenance": []
    },
    "kernelspec": {
      "name": "python3",
      "display_name": "Python 3"
    },
    "language_info": {
      "name": "python"
    }
  },
  "cells": [
    {
      "cell_type": "markdown",
      "source": [
        "# SECTION TWO - Classification with transfer learning (30%)\n",
        "\n",
        "\n",
        "The task is again to train a classification model for CIFAR-10, but this time with transfer learning. Load\n",
        "a model with pre-trained weights into your environment. You may choose any one of the available models\n",
        "(VGG, Inception, ResNet, DenseNet, EfficientNet, etc.), but give a short motivation for your choice. Also\n",
        "find out and explain how the difference in image dimensions between ImageNet and CIFAR-10 can be\n",
        "handled.\n",
        "Replace the pre-trained model’s classification layers with one or two new layers, freeze the weights of the\n",
        "\n",
        "feature extraction (convolutional) layers, and train the new layers. You may also experiment with fine-\n",
        "tuning all the convolutional layers. Compare training times and test accuracies with your best model from\n",
        "\n",
        "Problem 1."
      ],
      "metadata": {
        "id": "Hf_Otfs0WACv"
      }
    },
    {
      "cell_type": "code",
      "execution_count": null,
      "metadata": {
        "id": "PgyqSHcM2xaJ"
      },
      "outputs": [],
      "source": [
        "#  PyTorch\n",
        "import time\n",
        "import torch\n",
        "import torch.optim as optim\n",
        "import torch.nn as nn\n",
        "from torch.utils.data import DataLoader,Dataset, random_split\n",
        "import torch.nn.functional as F\n",
        "#  torchvision\n",
        "import torchvision\n",
        "from torchvision import transforms, datasets\n",
        "from torchsummary import summary\n",
        "#  Ml libraries\n",
        "import numpy as np\n",
        "import pandas as pd\n",
        "import matplotlib.pyplot as plt\n"
      ]
    },
    {
      "cell_type": "markdown",
      "source": [
        "## VGG 16"
      ],
      "metadata": {
        "id": "7O76k54fDV1u"
      }
    },
    {
      "cell_type": "code",
      "source": [
        "### PRE-TRAINED MODELS AVAILABLE HERE\n",
        "## https://pytorch.org/docs/stable/torchvision/models.html\n",
        "from torchvision import models\n",
        "\n",
        "#  loading vgg16\n",
        "vgg = models.vgg16(pretrained=True)\n",
        "mobilenet = models.mobilenet_v2(pretrained=True)"
      ],
      "metadata": {
        "id": "h1M-bjujLzlf",
        "colab": {
          "base_uri": "https://localhost:8080/"
        },
        "outputId": "64490666-1fd6-4166-85fa-b8c392e105f9"
      },
      "execution_count": null,
      "outputs": [
        {
          "output_type": "stream",
          "name": "stderr",
          "text": [
            "/usr/local/lib/python3.10/dist-packages/torchvision/models/_utils.py:208: UserWarning: The parameter 'pretrained' is deprecated since 0.13 and may be removed in the future, please use 'weights' instead.\n",
            "  warnings.warn(\n",
            "/usr/local/lib/python3.10/dist-packages/torchvision/models/_utils.py:223: UserWarning: Arguments other than a weight enum or `None` for 'weights' are deprecated since 0.13 and may be removed in the future. The current behavior is equivalent to passing `weights=VGG16_Weights.IMAGENET1K_V1`. You can also use `weights=VGG16_Weights.DEFAULT` to get the most up-to-date weights.\n",
            "  warnings.warn(msg)\n",
            "/usr/local/lib/python3.10/dist-packages/torchvision/models/_utils.py:223: UserWarning: Arguments other than a weight enum or `None` for 'weights' are deprecated since 0.13 and may be removed in the future. The current behavior is equivalent to passing `weights=MobileNet_V2_Weights.IMAGENET1K_V1`. You can also use `weights=MobileNet_V2_Weights.DEFAULT` to get the most up-to-date weights.\n",
            "  warnings.warn(msg)\n",
            "Downloading: \"https://download.pytorch.org/models/mobilenet_v2-b0353104.pth\" to /root/.cache/torch/hub/checkpoints/mobilenet_v2-b0353104.pth\n",
            "100%|██████████| 13.6M/13.6M [00:01<00:00, 11.9MB/s]\n"
          ]
        }
      ]
    },
    {
      "cell_type": "markdown",
      "source": [
        "I have chosen vgg because of its simplicity in architecture \"repeated blocks of convolutional layers followed by pooling\".which is similar to my best performing model.\n",
        "\n",
        "also,the small filter sizes are best suited to the cifar 10 dataset"
      ],
      "metadata": {
        "id": "fajUldvdzAUx"
      }
    },
    {
      "cell_type": "markdown",
      "source": [
        "### PreProcess Data To be compatible with the VGG16 Model\n",
        "\n",
        "This is how I dealt with the different data dimentions, resize the pictures to 224,224"
      ],
      "metadata": {
        "id": "BoG_7NJltBfS"
      }
    },
    {
      "cell_type": "code",
      "source": [
        "std_normalize = transforms.Normalize(mean=[0.485, 0.456, 0.406],\n",
        "                          std=[0.229, 0.224, 0.225])\n",
        "trans = transforms.Compose([\n",
        "    transforms.Resize((224, 224)),\n",
        "        transforms.ToTensor(),\n",
        "        std_normalize])\n",
        "\n",
        "\n",
        "batch_size = 128\n",
        "train_ratio = 0.8\n",
        "validation_ratio = 0.2\n",
        "classes = ('plane', 'car', 'bird', 'cat',\n",
        "           'deer', 'dog', 'frog', 'horse', 'ship', 'truck')\n",
        "\n",
        "\n",
        "#  preparing the data int train, valdation and test\n",
        "\n",
        "\n",
        "trainset = torchvision.datasets.CIFAR10(root='./data', train=True,\n",
        "                                        download=True, transform=trans)\n",
        "\n",
        "test_dataset = torchvision.datasets.CIFAR10(root='./data', train=False,\n",
        "                                     download=True, transform=trans)\n",
        "\n",
        "dataset_size = len(trainset)\n",
        "train_size = int(train_ratio * dataset_size)\n",
        "validation_size = dataset_size - train_size\n",
        "train_dataset, validation_dataset = random_split(trainset, [train_size, validation_size])\n",
        "\n",
        "trainloader = torch.utils.data.DataLoader(train_dataset, batch_size=batch_size,\n",
        "                                          shuffle=True, num_workers=2)\n",
        "validationloader = torch.utils.data.DataLoader(validation_dataset, batch_size=batch_size,\n",
        "                                          shuffle=True, num_workers=2)\n",
        "testloader = torch.utils.data.DataLoader(test_dataset, batch_size=batch_size,\n",
        "\n",
        "                                         shuffle=False, num_workers=2)\n",
        "\n",
        "# Checking the dataset\n",
        "for images, labels in trainloader:\n",
        "    print('data dimensions:', images.shape)\n",
        "    print('labels dimensions:', labels.shape)\n",
        "    break"
      ],
      "metadata": {
        "colab": {
          "base_uri": "https://localhost:8080/"
        },
        "id": "D8Yg5cd9wV64",
        "outputId": "d5872805-0ed2-4e14-e687-0aba285c8800"
      },
      "execution_count": null,
      "outputs": [
        {
          "output_type": "stream",
          "name": "stdout",
          "text": [
            "Files already downloaded and verified\n",
            "Files already downloaded and verified\n",
            "data dimensions: torch.Size([128, 3, 224, 224])\n",
            "labels dimensions: torch.Size([128])\n"
          ]
        }
      ]
    },
    {
      "cell_type": "markdown",
      "source": [
        "### Preparing The model for Transfer learning\n",
        "\n",
        "\n",
        "I decided to freeze all layers , convolutional layers and the classifier's layers, then, replace the classifier with custom layers of my own"
      ],
      "metadata": {
        "id": "6cfFpvfA8yuu"
      }
    },
    {
      "cell_type": "code",
      "source": [
        "\n",
        "#  freeze the whole model\n",
        "for param in model.parameters():\n",
        "    param.requires_grad = False\n",
        "#  Approach 1 , replace the entire classifier\n",
        "vgg.classifier = nn.Sequential(\n",
        "    nn.Linear(512 * 7 * 7, 512),  # Input size lastt convolutional layer\n",
        "    nn.ReLU(),\n",
        "    nn.Dropout(0.5),\n",
        "    nn.Linear(512, 64),\n",
        "    nn.ReLU(),\n",
        "    nn.Dropout(0.5),\n",
        "    nn.Linear(64, 10)\n",
        ")\n",
        "#  replace the last layer withmy own layers\n",
        "# vgg.classifier[6] = nn.Sequential(nn.Linear(4096, 512),\n",
        "#                       nn.ReLU(),\n",
        "#                       nn.Dropout(0.5),\n",
        "#                       nn.Linear(512, 10))\n",
        "# move to gpu\n",
        "vgg = vgg.to(device)\n",
        "# summary(vgg, input_size=(3, 224, 224))\n",
        "vgg"
      ],
      "metadata": {
        "id": "hGoWn7rBLzm4",
        "colab": {
          "base_uri": "https://localhost:8080/"
        },
        "outputId": "08f0e7af-fba9-436c-bd47-b6deca8fa529"
      },
      "execution_count": null,
      "outputs": [
        {
          "output_type": "execute_result",
          "data": {
            "text/plain": [
              "VGG(\n",
              "  (features): Sequential(\n",
              "    (0): Conv2d(3, 64, kernel_size=(3, 3), stride=(1, 1), padding=(1, 1))\n",
              "    (1): ReLU(inplace=True)\n",
              "    (2): Conv2d(64, 64, kernel_size=(3, 3), stride=(1, 1), padding=(1, 1))\n",
              "    (3): ReLU(inplace=True)\n",
              "    (4): MaxPool2d(kernel_size=2, stride=2, padding=0, dilation=1, ceil_mode=False)\n",
              "    (5): Conv2d(64, 128, kernel_size=(3, 3), stride=(1, 1), padding=(1, 1))\n",
              "    (6): ReLU(inplace=True)\n",
              "    (7): Conv2d(128, 128, kernel_size=(3, 3), stride=(1, 1), padding=(1, 1))\n",
              "    (8): ReLU(inplace=True)\n",
              "    (9): MaxPool2d(kernel_size=2, stride=2, padding=0, dilation=1, ceil_mode=False)\n",
              "    (10): Conv2d(128, 256, kernel_size=(3, 3), stride=(1, 1), padding=(1, 1))\n",
              "    (11): ReLU(inplace=True)\n",
              "    (12): Conv2d(256, 256, kernel_size=(3, 3), stride=(1, 1), padding=(1, 1))\n",
              "    (13): ReLU(inplace=True)\n",
              "    (14): Conv2d(256, 256, kernel_size=(3, 3), stride=(1, 1), padding=(1, 1))\n",
              "    (15): ReLU(inplace=True)\n",
              "    (16): MaxPool2d(kernel_size=2, stride=2, padding=0, dilation=1, ceil_mode=False)\n",
              "    (17): Conv2d(256, 512, kernel_size=(3, 3), stride=(1, 1), padding=(1, 1))\n",
              "    (18): ReLU(inplace=True)\n",
              "    (19): Conv2d(512, 512, kernel_size=(3, 3), stride=(1, 1), padding=(1, 1))\n",
              "    (20): ReLU(inplace=True)\n",
              "    (21): Conv2d(512, 512, kernel_size=(3, 3), stride=(1, 1), padding=(1, 1))\n",
              "    (22): ReLU(inplace=True)\n",
              "    (23): MaxPool2d(kernel_size=2, stride=2, padding=0, dilation=1, ceil_mode=False)\n",
              "    (24): Conv2d(512, 512, kernel_size=(3, 3), stride=(1, 1), padding=(1, 1))\n",
              "    (25): ReLU(inplace=True)\n",
              "    (26): Conv2d(512, 512, kernel_size=(3, 3), stride=(1, 1), padding=(1, 1))\n",
              "    (27): ReLU(inplace=True)\n",
              "    (28): Conv2d(512, 512, kernel_size=(3, 3), stride=(1, 1), padding=(1, 1))\n",
              "    (29): ReLU(inplace=True)\n",
              "    (30): MaxPool2d(kernel_size=2, stride=2, padding=0, dilation=1, ceil_mode=False)\n",
              "  )\n",
              "  (avgpool): AdaptiveAvgPool2d(output_size=(7, 7))\n",
              "  (classifier): Sequential(\n",
              "    (0): Linear(in_features=25088, out_features=512, bias=True)\n",
              "    (1): ReLU()\n",
              "    (2): Dropout(p=0.5, inplace=False)\n",
              "    (3): Linear(in_features=512, out_features=64, bias=True)\n",
              "    (4): ReLU()\n",
              "    (5): Dropout(p=0.5, inplace=False)\n",
              "    (6): Linear(in_features=64, out_features=10, bias=True)\n",
              "  )\n",
              ")"
            ]
          },
          "metadata": {},
          "execution_count": 50
        }
      ]
    },
    {
      "cell_type": "code",
      "source": [
        "# Set up the loss funciton and the optimizer\n",
        "optimizer = torch.optim.Adam(vgg.parameters(),lr=0.001)\n",
        "criterion = nn.CrossEntropyLoss()\n",
        "\n",
        "import time\n",
        "tic = time.time()\n",
        "# Training loop\n",
        "num_epochs = 10\n",
        "for epoch in range(num_epochs):\n",
        "    train_model(vgg,epoch)\n",
        "    model_validation(vgg,epoch,validationloader)\n",
        "toc = time.time()\n",
        "print(f\" Training time = {toc-tic:.2f} seconds\")\n",
        "plot_metrics()\n",
        "\n",
        "# Save the model\n",
        "torch.save(vgg.state_dict(), 'vgg16.pth')\n"
      ],
      "metadata": {
        "id": "uqG4wL3ALznl",
        "colab": {
          "base_uri": "https://localhost:8080/"
        },
        "outputId": "ac72c1bf-04ea-4365-fb24-60aeb16899cd"
      },
      "execution_count": null,
      "outputs": [
        {
          "output_type": "stream",
          "name": "stdout",
          "text": [
            "Epoch [0], Batch [0/313], Loss: 2.3216, Accuracy: 8.59%\n",
            "Epoch [0], Batch [200/313], Loss: 2.3130, Accuracy: 10.29%\n",
            "Epoch 0 Validation Loss: 1.9379, Validation Accuracy: 26.03%\n",
            "Epoch [1], Batch [0/313], Loss: 1.9729, Accuracy: 26.56%\n",
            "Epoch [1], Batch [200/313], Loss: 1.8160, Accuracy: 30.88%\n",
            "Epoch 1 Validation Loss: 1.5689, Validation Accuracy: 42.03%\n",
            "Epoch [2], Batch [0/313], Loss: 1.5924, Accuracy: 34.38%\n",
            "Epoch [2], Batch [200/313], Loss: 1.5457, Accuracy: 43.00%\n",
            "Epoch 2 Validation Loss: 1.3142, Validation Accuracy: 52.17%\n",
            "Epoch [3], Batch [0/313], Loss: 1.3685, Accuracy: 56.25%\n",
            "Epoch [3], Batch [200/313], Loss: 1.3112, Accuracy: 53.57%\n",
            "Epoch 3 Validation Loss: 1.2504, Validation Accuracy: 55.73%\n",
            "Epoch [4], Batch [0/313], Loss: 1.1271, Accuracy: 56.25%\n",
            "Epoch [4], Batch [200/313], Loss: 1.1539, Accuracy: 59.04%\n",
            "Epoch 4 Validation Loss: 1.0075, Validation Accuracy: 63.77%\n",
            "Epoch [5], Batch [0/313], Loss: 1.1150, Accuracy: 53.12%\n",
            "Epoch [5], Batch [200/313], Loss: 1.0317, Accuracy: 63.62%\n",
            "Epoch 5 Validation Loss: 0.9335, Validation Accuracy: 66.68%\n",
            "Epoch [6], Batch [0/313], Loss: 0.9130, Accuracy: 69.53%\n",
            "Epoch [6], Batch [200/313], Loss: 0.9409, Accuracy: 67.60%\n"
          ]
        }
      ]
    },
    {
      "cell_type": "markdown",
      "source": [
        "#### Comment\n",
        "\n",
        "Dissappointment, VGG16 modell doesnt learn as expected + takes too long to train\n",
        "\n",
        "plan B : use efficient fast model : MobileNent"
      ],
      "metadata": {
        "id": "8I1X2XwGC8SQ"
      }
    },
    {
      "cell_type": "markdown",
      "source": [
        "## Mobile Net\n",
        "\n",
        "\n",
        "Motivation : small size, fast in training ,efficent"
      ],
      "metadata": {
        "id": "z6jfxOWFDQtm"
      }
    },
    {
      "cell_type": "markdown",
      "source": [
        "### Load Model + Prepare the Data\n"
      ],
      "metadata": {
        "id": "Ct0XCVeyDmNc"
      }
    },
    {
      "cell_type": "code",
      "source": [
        "### PRE-TRAINED MODELS AVAILABLE HERE\n",
        "## https://pytorch.org/docs/stable/torchvision/models.html\n",
        "from torchvision import models\n",
        "\n",
        "mobilenet = models.mobilenet_v2(pretrained=True)"
      ],
      "metadata": {
        "id": "WTauP0aRKPFb"
      },
      "execution_count": null,
      "outputs": []
    },
    {
      "cell_type": "code",
      "source": [
        "mobilenet.classifier"
      ],
      "metadata": {
        "colab": {
          "base_uri": "https://localhost:8080/"
        },
        "id": "v5xnV66OOEQ5",
        "outputId": "f653722b-ee03-4006-b524-d9adbc742d0e"
      },
      "execution_count": null,
      "outputs": [
        {
          "output_type": "execute_result",
          "data": {
            "text/plain": [
              "Sequential(\n",
              "  (0): Dropout(p=0.2, inplace=False)\n",
              "  (1): Linear(in_features=1280, out_features=1000, bias=True)\n",
              ")"
            ]
          },
          "metadata": {},
          "execution_count": 11
        }
      ]
    },
    {
      "cell_type": "code",
      "source": [
        "std_normalize = transforms.Normalize(mean=[0.485, 0.456, 0.406],\n",
        "                          std=[0.229, 0.224, 0.225])\n",
        "trans = transforms.Compose([\n",
        "    transforms.Resize((224, 224)),\n",
        "        transforms.ToTensor(),\n",
        "        std_normalize])\n",
        "\n",
        "\n",
        "batch_size = 128\n",
        "train_ratio = 0.8\n",
        "validation_ratio = 0.2\n",
        "classes = ('plane', 'car', 'bird', 'cat',\n",
        "           'deer', 'dog', 'frog', 'horse', 'ship', 'truck')\n",
        "\n",
        "\n",
        "#  preparing the data int train, valdation and test\n",
        "\n",
        "\n",
        "trainset = torchvision.datasets.CIFAR10(root='./data', train=True,\n",
        "                                        download=True, transform=trans)\n",
        "\n",
        "test_dataset = torchvision.datasets.CIFAR10(root='./data', train=False,\n",
        "                                     download=True, transform=trans)\n",
        "\n",
        "dataset_size = len(trainset)\n",
        "train_size = int(train_ratio * dataset_size)\n",
        "validation_size = dataset_size - train_size\n",
        "train_dataset, validation_dataset = random_split(trainset, [train_size, validation_size])\n",
        "\n",
        "trainloader = torch.utils.data.DataLoader(train_dataset, batch_size=batch_size,\n",
        "                                          shuffle=True, num_workers=2)\n",
        "validationloader = torch.utils.data.DataLoader(validation_dataset, batch_size=batch_size,\n",
        "                                          shuffle=True, num_workers=2)\n",
        "testloader = torch.utils.data.DataLoader(test_dataset, batch_size=batch_size,\n",
        "\n",
        "                                         shuffle=False, num_workers=2)\n",
        "\n",
        "# Checking the dataset\n",
        "for images, labels in trainloader:\n",
        "    print('data dimensions:', images.shape)\n",
        "    print('labels dimensions:', labels.shape)\n",
        "    break"
      ],
      "metadata": {
        "id": "mODZIWt8Lzc2",
        "colab": {
          "base_uri": "https://localhost:8080/"
        },
        "outputId": "012865d5-afcf-44a0-da46-891222640544"
      },
      "execution_count": null,
      "outputs": [
        {
          "output_type": "stream",
          "name": "stdout",
          "text": [
            "Files already downloaded and verified\n",
            "Files already downloaded and verified\n",
            "data dimensions: torch.Size([128, 3, 224, 224])\n",
            "labels dimensions: torch.Size([128])\n"
          ]
        }
      ]
    },
    {
      "cell_type": "code",
      "source": [
        "#  freeze the whole model\n",
        "for param in mobilenet.parameters():\n",
        "    param.requires_grad = False\n",
        "#  Approach 1 , replace the entire classifier\n",
        "mobilenet.classifier = nn.Sequential(\n",
        "    nn.Linear(1280, 512),  # Input size lastt convolutional layer\n",
        "    nn.ReLU(),\n",
        "    nn.Dropout(0.5),\n",
        "    nn.Linear(512, 64),\n",
        "    nn.ReLU(),\n",
        "    nn.Dropout(0.5),\n",
        "    nn.Linear(64, 10)\n",
        ")\n",
        "#  replace the last layer withmy own layers\n",
        "# mobilenet.classifier[6] = nn.Sequential(nn.Linear(4096, 512),\n",
        "#                       nn.ReLU(),\n",
        "#                       nn.Dropout(0.5),\n",
        "#                       nn.Linear(512, 10))\n",
        "# move to gpu\n",
        "device = torch.device('cuda' if torch.cuda.is_available() else 'cpu')\n",
        "\n",
        "mobilenet = mobilenet.to(device)\n",
        "summary(mobilenet, input_size=(3, 224, 224))\n",
        "mobilenet"
      ],
      "metadata": {
        "id": "mVYfAmZcLzkr"
      },
      "execution_count": null,
      "outputs": []
    },
    {
      "cell_type": "code",
      "source": [
        "# Set up the loss funciton and the optimizer\n",
        "optimizer = torch.optim.Adam(mobilenet.parameters(),lr=0.001)\n",
        "criterion = nn.CrossEntropyLoss()\n",
        "\n",
        "import time\n",
        "tic = time.time()\n",
        "# Training loop\n",
        "num_epochs = 10\n",
        "for epoch in range(10,2*num_epochs):\n",
        "    train_model(mobilenet,epoch)\n",
        "    model_validation(mobilenet,epoch,validationloader)\n",
        "toc = time.time()\n",
        "print(f\" Training time = {toc-tic:.2f} seconds\")\n",
        "plot_metrics()\n",
        "\n",
        "# Save the model\n",
        "torch.save(mobilenet.state_dict(), 'mobilenet16.pth')\n"
      ],
      "metadata": {
        "colab": {
          "base_uri": "https://localhost:8080/",
          "height": 1000
        },
        "outputId": "c1c6acf9-ea37-4af0-82f6-b8421620c20a",
        "id": "i-HtnAJ8mDzq"
      },
      "execution_count": null,
      "outputs": [
        {
          "output_type": "stream",
          "name": "stdout",
          "text": [
            "Epoch [0], Batch [0/313], Loss: 2.3065, Accuracy: 10.16%\n",
            "Epoch [0], Batch [200/313], Loss: 1.3214, Accuracy: 52.27%\n",
            "Epoch 0 Validation Loss: 0.7436, Validation Accuracy: 73.26%\n",
            "Epoch [1], Batch [0/313], Loss: 0.9317, Accuracy: 71.09%\n",
            "Epoch [1], Batch [200/313], Loss: 0.8634, Accuracy: 71.12%\n",
            "Epoch 1 Validation Loss: 0.6841, Validation Accuracy: 76.37%\n",
            "Epoch [2], Batch [0/313], Loss: 0.7575, Accuracy: 73.44%\n",
            "Epoch [2], Batch [200/313], Loss: 0.8190, Accuracy: 72.97%\n",
            "Epoch 2 Validation Loss: 0.6678, Validation Accuracy: 77.10%\n",
            "Epoch [3], Batch [0/313], Loss: 0.8217, Accuracy: 71.88%\n",
            "Epoch [3], Batch [200/313], Loss: 0.7766, Accuracy: 74.59%\n",
            "Epoch 3 Validation Loss: 0.6532, Validation Accuracy: 77.30%\n",
            "Epoch [4], Batch [0/313], Loss: 0.5366, Accuracy: 81.25%\n",
            "Epoch [4], Batch [200/313], Loss: 0.7558, Accuracy: 75.21%\n",
            "Epoch 4 Validation Loss: 0.6481, Validation Accuracy: 77.53%\n",
            "Epoch [5], Batch [0/313], Loss: 0.5642, Accuracy: 78.91%\n",
            "Epoch [5], Batch [200/313], Loss: 0.7300, Accuracy: 75.88%\n",
            "Epoch 5 Validation Loss: 0.6581, Validation Accuracy: 77.49%\n",
            "Epoch [6], Batch [0/313], Loss: 0.7249, Accuracy: 78.91%\n",
            "Epoch [6], Batch [200/313], Loss: 0.7205, Accuracy: 76.33%\n",
            "Epoch 6 Validation Loss: 0.6348, Validation Accuracy: 77.67%\n",
            "Epoch [7], Batch [0/313], Loss: 0.7383, Accuracy: 75.00%\n",
            "Epoch [7], Batch [200/313], Loss: 0.7080, Accuracy: 76.19%\n",
            "Epoch [8], Batch [0/313], Loss: 0.6065, Accuracy: 82.81%\n",
            "Epoch [8], Batch [200/313], Loss: 0.6807, Accuracy: 77.50%\n",
            "Epoch 8 Validation Loss: 0.6255, Validation Accuracy: 78.09%\n",
            "Epoch [9], Batch [0/313], Loss: 0.8139, Accuracy: 67.97%\n",
            "Epoch [9], Batch [200/313], Loss: 0.6801, Accuracy: 77.54%\n",
            "Epoch 9 Validation Loss: 0.6159, Validation Accuracy: 78.71%\n",
            " Training time = 1064.39 seconds\n"
          ]
        },
        {
          "output_type": "display_data",
          "data": {
            "text/plain": [
              "<Figure size 1200x500 with 2 Axes>"
            ],
            "image/png": "[encoded data removed]"
          },
          "metadata": {}
        }
      ]
    },
    {
      "cell_type": "markdown",
      "source": [
        "#### Comment :\n",
        "\n",
        "better than vgg, but still did not do the best"
      ],
      "metadata": {
        "id": "_1FKqHa1EQhp"
      }
    },
    {
      "cell_type": "markdown",
      "source": [
        "## mobilenet_v3_large :\n",
        "\n",
        "Method2 : Replacing only one layer from the classifier"
      ],
      "metadata": {
        "id": "CLqFso6SUV6t"
      }
    },
    {
      "cell_type": "code",
      "source": [
        "mobilenet2 = models.mobilenet_v3_large(pretrained=True)"
      ],
      "metadata": {
        "id": "WGQnMmjjLzmO",
        "colab": {
          "base_uri": "https://localhost:8080/"
        },
        "outputId": "ee3e4845-839d-4d88-bec7-2b101b59b834"
      },
      "execution_count": null,
      "outputs": [
        {
          "output_type": "stream",
          "name": "stderr",
          "text": [
            "/usr/local/lib/python3.10/dist-packages/torchvision/models/_utils.py:208: UserWarning: The parameter 'pretrained' is deprecated since 0.13 and may be removed in the future, please use 'weights' instead.\n",
            "  warnings.warn(\n",
            "/usr/local/lib/python3.10/dist-packages/torchvision/models/_utils.py:223: UserWarning: Arguments other than a weight enum or `None` for 'weights' are deprecated since 0.13 and may be removed in the future. The current behavior is equivalent to passing `weights=MobileNet_V3_Large_Weights.IMAGENET1K_V1`. You can also use `weights=MobileNet_V3_Large_Weights.DEFAULT` to get the most up-to-date weights.\n",
            "  warnings.warn(msg)\n",
            "Downloading: \"https://download.pytorch.org/models/mobilenet_v3_large-8738ca79.pth\" to /root/.cache/torch/hub/checkpoints/mobilenet_v3_large-8738ca79.pth\n",
            "100%|██████████| 21.1M/21.1M [00:00<00:00, 87.8MB/s]\n"
          ]
        }
      ]
    },
    {
      "cell_type": "code",
      "source": [
        "mobilenet2"
      ],
      "metadata": {
        "id": "kb4yyWJKUbE4"
      },
      "execution_count": null,
      "outputs": []
    },
    {
      "cell_type": "code",
      "source": [
        "\n",
        "#  freeze the whole model\n",
        "for param in mobilenet2.parameters():\n",
        "    param.requires_grad = False\n",
        "#  Approach 1 , replace the entire classifier\n",
        "# mobilenet2.classifier = nn.Sequential(\n",
        "#     nn.Linear(1280, 512),  # Input size lastt convolutional layer\n",
        "#     nn.ReLU(),\n",
        "#     nn.Dropout(0.5),\n",
        "#     nn.Linear(512, 64),\n",
        "#     nn.ReLU(),\n",
        "#     nn.Dropout(0.5),\n",
        "#     nn.Linear(64, 10)\n",
        "# )\n",
        "#  replace the last layer withmy own layers\n",
        "mobilenet2.classifier[3] = nn.Sequential(nn.Linear(1280, 512),\n",
        "                      nn.ReLU(),\n",
        "                      nn.Dropout(0.5),\n",
        "                      nn.Linear(512, 10))\n",
        "# move to gpu\n",
        "device = torch.device('cuda' if torch.cuda.is_available() else 'cpu')\n",
        "\n",
        "mobilenet2 = mobilenet2.to(device)\n",
        "summary(mobilenet2, input_size=(3, 224, 224))\n",
        "mobilenet2\n",
        "# Set up the loss funciton and the optimizer\n",
        "optimizer = torch.optim.Adam(mobilenet2.parameters(),lr=0.001)\n",
        "criterion = nn.CrossEntropyLoss()\n",
        "\n",
        "import time\n",
        "tic = time.time()\n",
        "# Training loop\n",
        "num_epochs = 10\n",
        "for epoch in range(num_epochs):\n",
        "    train_model(mobilenet2,epoch)\n",
        "    model_validation(mobilenet2,epoch,validationloader)\n",
        "toc = time.time()\n",
        "print(f\" Training time = {toc-tic:.2f} seconds\")\n",
        "plot_metrics()\n",
        "\n",
        "# Save the model\n",
        "torch.save(mobilenet2.state_dict(), 'mobilenet216.pth')\n"
      ],
      "metadata": {
        "colab": {
          "base_uri": "https://localhost:8080/",
          "height": 1000
        },
        "outputId": "5978f025-f7f1-414f-ba9c-f2e0074a9f20",
        "id": "RtEA5bzWmDzq"
      },
      "execution_count": null,
      "outputs": [
        {
          "output_type": "stream",
          "name": "stdout",
          "text": [
            "----------------------------------------------------------------\n",
            "        Layer (type)               Output Shape         Param #\n",
            "================================================================\n",
            "            Conv2d-1         [-1, 16, 112, 112]             432\n",
            "       BatchNorm2d-2         [-1, 16, 112, 112]              32\n",
            "         Hardswish-3         [-1, 16, 112, 112]               0\n",
            "            Conv2d-4         [-1, 16, 112, 112]             144\n",
            "       BatchNorm2d-5         [-1, 16, 112, 112]              32\n",
            "              ReLU-6         [-1, 16, 112, 112]               0\n",
            "            Conv2d-7         [-1, 16, 112, 112]             256\n",
            "       BatchNorm2d-8         [-1, 16, 112, 112]              32\n",
            "  InvertedResidual-9         [-1, 16, 112, 112]               0\n",
            "           Conv2d-10         [-1, 64, 112, 112]           1,024\n",
            "      BatchNorm2d-11         [-1, 64, 112, 112]             128\n",
            "             ReLU-12         [-1, 64, 112, 112]               0\n",
            "           Conv2d-13           [-1, 64, 56, 56]             576\n",
            "      BatchNorm2d-14           [-1, 64, 56, 56]             128\n",
            "             ReLU-15           [-1, 64, 56, 56]               0\n",
            "           Conv2d-16           [-1, 24, 56, 56]           1,536\n",
            "      BatchNorm2d-17           [-1, 24, 56, 56]              48\n",
            " InvertedResidual-18           [-1, 24, 56, 56]               0\n",
            "           Conv2d-19           [-1, 72, 56, 56]           1,728\n",
            "      BatchNorm2d-20           [-1, 72, 56, 56]             144\n",
            "             ReLU-21           [-1, 72, 56, 56]               0\n",
            "           Conv2d-22           [-1, 72, 56, 56]             648\n",
            "      BatchNorm2d-23           [-1, 72, 56, 56]             144\n",
            "             ReLU-24           [-1, 72, 56, 56]               0\n",
            "           Conv2d-25           [-1, 24, 56, 56]           1,728\n",
            "      BatchNorm2d-26           [-1, 24, 56, 56]              48\n",
            " InvertedResidual-27           [-1, 24, 56, 56]               0\n",
            "           Conv2d-28           [-1, 72, 56, 56]           1,728\n",
            "      BatchNorm2d-29           [-1, 72, 56, 56]             144\n",
            "             ReLU-30           [-1, 72, 56, 56]               0\n",
            "           Conv2d-31           [-1, 72, 28, 28]           1,800\n",
            "      BatchNorm2d-32           [-1, 72, 28, 28]             144\n",
            "             ReLU-33           [-1, 72, 28, 28]               0\n",
            "AdaptiveAvgPool2d-34             [-1, 72, 1, 1]               0\n",
            "           Conv2d-35             [-1, 24, 1, 1]           1,752\n",
            "             ReLU-36             [-1, 24, 1, 1]               0\n",
            "           Conv2d-37             [-1, 72, 1, 1]           1,800\n",
            "      Hardsigmoid-38             [-1, 72, 1, 1]               0\n",
            "SqueezeExcitation-39           [-1, 72, 28, 28]               0\n",
            "           Conv2d-40           [-1, 40, 28, 28]           2,880\n",
            "      BatchNorm2d-41           [-1, 40, 28, 28]              80\n",
            " InvertedResidual-42           [-1, 40, 28, 28]               0\n",
            "           Conv2d-43          [-1, 120, 28, 28]           4,800\n",
            "      BatchNorm2d-44          [-1, 120, 28, 28]             240\n",
            "             ReLU-45          [-1, 120, 28, 28]               0\n",
            "           Conv2d-46          [-1, 120, 28, 28]           3,000\n",
            "      BatchNorm2d-47          [-1, 120, 28, 28]             240\n",
            "             ReLU-48          [-1, 120, 28, 28]               0\n",
            "AdaptiveAvgPool2d-49            [-1, 120, 1, 1]               0\n",
            "           Conv2d-50             [-1, 32, 1, 1]           3,872\n",
            "             ReLU-51             [-1, 32, 1, 1]               0\n",
            "           Conv2d-52            [-1, 120, 1, 1]           3,960\n",
            "      Hardsigmoid-53            [-1, 120, 1, 1]               0\n",
            "SqueezeExcitation-54          [-1, 120, 28, 28]               0\n",
            "           Conv2d-55           [-1, 40, 28, 28]           4,800\n",
            "      BatchNorm2d-56           [-1, 40, 28, 28]              80\n",
            " InvertedResidual-57           [-1, 40, 28, 28]               0\n",
            "           Conv2d-58          [-1, 120, 28, 28]           4,800\n",
            "      BatchNorm2d-59          [-1, 120, 28, 28]             240\n",
            "             ReLU-60          [-1, 120, 28, 28]               0\n",
            "           Conv2d-61          [-1, 120, 28, 28]           3,000\n",
            "      BatchNorm2d-62          [-1, 120, 28, 28]             240\n",
            "             ReLU-63          [-1, 120, 28, 28]               0\n",
            "AdaptiveAvgPool2d-64            [-1, 120, 1, 1]               0\n",
            "           Conv2d-65             [-1, 32, 1, 1]           3,872\n",
            "             ReLU-66             [-1, 32, 1, 1]               0\n",
            "           Conv2d-67            [-1, 120, 1, 1]           3,960\n",
            "      Hardsigmoid-68            [-1, 120, 1, 1]               0\n",
            "SqueezeExcitation-69          [-1, 120, 28, 28]               0\n",
            "           Conv2d-70           [-1, 40, 28, 28]           4,800\n",
            "      BatchNorm2d-71           [-1, 40, 28, 28]              80\n",
            " InvertedResidual-72           [-1, 40, 28, 28]               0\n",
            "           Conv2d-73          [-1, 240, 28, 28]           9,600\n",
            "      BatchNorm2d-74          [-1, 240, 28, 28]             480\n",
            "        Hardswish-75          [-1, 240, 28, 28]               0\n",
            "           Conv2d-76          [-1, 240, 14, 14]           2,160\n",
            "      BatchNorm2d-77          [-1, 240, 14, 14]             480\n",
            "        Hardswish-78          [-1, 240, 14, 14]               0\n",
            "           Conv2d-79           [-1, 80, 14, 14]          19,200\n",
            "      BatchNorm2d-80           [-1, 80, 14, 14]             160\n",
            " InvertedResidual-81           [-1, 80, 14, 14]               0\n",
            "           Conv2d-82          [-1, 200, 14, 14]          16,000\n",
            "      BatchNorm2d-83          [-1, 200, 14, 14]             400\n",
            "        Hardswish-84          [-1, 200, 14, 14]               0\n",
            "           Conv2d-85          [-1, 200, 14, 14]           1,800\n",
            "      BatchNorm2d-86          [-1, 200, 14, 14]             400\n",
            "        Hardswish-87          [-1, 200, 14, 14]               0\n",
            "           Conv2d-88           [-1, 80, 14, 14]          16,000\n",
            "      BatchNorm2d-89           [-1, 80, 14, 14]             160\n",
            " InvertedResidual-90           [-1, 80, 14, 14]               0\n",
            "           Conv2d-91          [-1, 184, 14, 14]          14,720\n",
            "      BatchNorm2d-92          [-1, 184, 14, 14]             368\n",
            "        Hardswish-93          [-1, 184, 14, 14]               0\n",
            "           Conv2d-94          [-1, 184, 14, 14]           1,656\n",
            "      BatchNorm2d-95          [-1, 184, 14, 14]             368\n",
            "        Hardswish-96          [-1, 184, 14, 14]               0\n",
            "           Conv2d-97           [-1, 80, 14, 14]          14,720\n",
            "      BatchNorm2d-98           [-1, 80, 14, 14]             160\n",
            " InvertedResidual-99           [-1, 80, 14, 14]               0\n",
            "          Conv2d-100          [-1, 184, 14, 14]          14,720\n",
            "     BatchNorm2d-101          [-1, 184, 14, 14]             368\n",
            "       Hardswish-102          [-1, 184, 14, 14]               0\n",
            "          Conv2d-103          [-1, 184, 14, 14]           1,656\n",
            "     BatchNorm2d-104          [-1, 184, 14, 14]             368\n",
            "       Hardswish-105          [-1, 184, 14, 14]               0\n",
            "          Conv2d-106           [-1, 80, 14, 14]          14,720\n",
            "     BatchNorm2d-107           [-1, 80, 14, 14]             160\n",
            "InvertedResidual-108           [-1, 80, 14, 14]               0\n",
            "          Conv2d-109          [-1, 480, 14, 14]          38,400\n",
            "     BatchNorm2d-110          [-1, 480, 14, 14]             960\n",
            "       Hardswish-111          [-1, 480, 14, 14]               0\n",
            "          Conv2d-112          [-1, 480, 14, 14]           4,320\n",
            "     BatchNorm2d-113          [-1, 480, 14, 14]             960\n",
            "       Hardswish-114          [-1, 480, 14, 14]               0\n",
            "AdaptiveAvgPool2d-115            [-1, 480, 1, 1]               0\n",
            "          Conv2d-116            [-1, 120, 1, 1]          57,720\n",
            "            ReLU-117            [-1, 120, 1, 1]               0\n",
            "          Conv2d-118            [-1, 480, 1, 1]          58,080\n",
            "     Hardsigmoid-119            [-1, 480, 1, 1]               0\n",
            "SqueezeExcitation-120          [-1, 480, 14, 14]               0\n",
            "          Conv2d-121          [-1, 112, 14, 14]          53,760\n",
            "     BatchNorm2d-122          [-1, 112, 14, 14]             224\n",
            "InvertedResidual-123          [-1, 112, 14, 14]               0\n",
            "          Conv2d-124          [-1, 672, 14, 14]          75,264\n",
            "     BatchNorm2d-125          [-1, 672, 14, 14]           1,344\n",
            "       Hardswish-126          [-1, 672, 14, 14]               0\n",
            "          Conv2d-127          [-1, 672, 14, 14]           6,048\n",
            "     BatchNorm2d-128          [-1, 672, 14, 14]           1,344\n",
            "       Hardswish-129          [-1, 672, 14, 14]               0\n",
            "AdaptiveAvgPool2d-130            [-1, 672, 1, 1]               0\n",
            "          Conv2d-131            [-1, 168, 1, 1]         113,064\n",
            "            ReLU-132            [-1, 168, 1, 1]               0\n",
            "          Conv2d-133            [-1, 672, 1, 1]         113,568\n",
            "     Hardsigmoid-134            [-1, 672, 1, 1]               0\n",
            "SqueezeExcitation-135          [-1, 672, 14, 14]               0\n",
            "          Conv2d-136          [-1, 112, 14, 14]          75,264\n",
            "     BatchNorm2d-137          [-1, 112, 14, 14]             224\n",
            "InvertedResidual-138          [-1, 112, 14, 14]               0\n",
            "          Conv2d-139          [-1, 672, 14, 14]          75,264\n",
            "     BatchNorm2d-140          [-1, 672, 14, 14]           1,344\n",
            "       Hardswish-141          [-1, 672, 14, 14]               0\n",
            "          Conv2d-142            [-1, 672, 7, 7]          16,800\n",
            "     BatchNorm2d-143            [-1, 672, 7, 7]           1,344\n",
            "       Hardswish-144            [-1, 672, 7, 7]               0\n",
            "AdaptiveAvgPool2d-145            [-1, 672, 1, 1]               0\n",
            "          Conv2d-146            [-1, 168, 1, 1]         113,064\n",
            "            ReLU-147            [-1, 168, 1, 1]               0\n",
            "          Conv2d-148            [-1, 672, 1, 1]         113,568\n",
            "     Hardsigmoid-149            [-1, 672, 1, 1]               0\n",
            "SqueezeExcitation-150            [-1, 672, 7, 7]               0\n",
            "          Conv2d-151            [-1, 160, 7, 7]         107,520\n",
            "     BatchNorm2d-152            [-1, 160, 7, 7]             320\n",
            "InvertedResidual-153            [-1, 160, 7, 7]               0\n",
            "          Conv2d-154            [-1, 960, 7, 7]         153,600\n",
            "     BatchNorm2d-155            [-1, 960, 7, 7]           1,920\n",
            "       Hardswish-156            [-1, 960, 7, 7]               0\n",
            "          Conv2d-157            [-1, 960, 7, 7]          24,000\n",
            "     BatchNorm2d-158            [-1, 960, 7, 7]           1,920\n",
            "       Hardswish-159            [-1, 960, 7, 7]               0\n",
            "AdaptiveAvgPool2d-160            [-1, 960, 1, 1]               0\n",
            "          Conv2d-161            [-1, 240, 1, 1]         230,640\n",
            "            ReLU-162            [-1, 240, 1, 1]               0\n",
            "          Conv2d-163            [-1, 960, 1, 1]         231,360\n",
            "     Hardsigmoid-164            [-1, 960, 1, 1]               0\n",
            "SqueezeExcitation-165            [-1, 960, 7, 7]               0\n",
            "          Conv2d-166            [-1, 160, 7, 7]         153,600\n",
            "     BatchNorm2d-167            [-1, 160, 7, 7]             320\n",
            "InvertedResidual-168            [-1, 160, 7, 7]               0\n",
            "          Conv2d-169            [-1, 960, 7, 7]         153,600\n",
            "     BatchNorm2d-170            [-1, 960, 7, 7]           1,920\n",
            "       Hardswish-171            [-1, 960, 7, 7]               0\n",
            "          Conv2d-172            [-1, 960, 7, 7]          24,000\n",
            "     BatchNorm2d-173            [-1, 960, 7, 7]           1,920\n",
            "       Hardswish-174            [-1, 960, 7, 7]               0\n",
            "AdaptiveAvgPool2d-175            [-1, 960, 1, 1]               0\n",
            "          Conv2d-176            [-1, 240, 1, 1]         230,640\n",
            "            ReLU-177            [-1, 240, 1, 1]               0\n",
            "          Conv2d-178            [-1, 960, 1, 1]         231,360\n",
            "     Hardsigmoid-179            [-1, 960, 1, 1]               0\n",
            "SqueezeExcitation-180            [-1, 960, 7, 7]               0\n",
            "          Conv2d-181            [-1, 160, 7, 7]         153,600\n",
            "     BatchNorm2d-182            [-1, 160, 7, 7]             320\n",
            "InvertedResidual-183            [-1, 160, 7, 7]               0\n",
            "          Conv2d-184            [-1, 960, 7, 7]         153,600\n",
            "     BatchNorm2d-185            [-1, 960, 7, 7]           1,920\n",
            "       Hardswish-186            [-1, 960, 7, 7]               0\n",
            "AdaptiveAvgPool2d-187            [-1, 960, 1, 1]               0\n",
            "          Linear-188                 [-1, 1280]       1,230,080\n",
            "       Hardswish-189                 [-1, 1280]               0\n",
            "         Dropout-190                 [-1, 1280]               0\n",
            "          Linear-191                  [-1, 512]         655,872\n",
            "            ReLU-192                  [-1, 512]               0\n",
            "         Dropout-193                  [-1, 512]               0\n",
            "          Linear-194                   [-1, 10]           5,130\n",
            "================================================================\n",
            "Total params: 4,863,034\n",
            "Trainable params: 661,002\n",
            "Non-trainable params: 4,202,032\n",
            "----------------------------------------------------------------\n",
            "Input size (MB): 0.57\n",
            "Forward/backward pass size (MB): 105.42\n",
            "Params size (MB): 18.55\n",
            "Estimated Total Size (MB): 124.54\n",
            "----------------------------------------------------------------\n",
            "Epoch [0], Batch [0/313], Loss: 2.3177, Accuracy: 13.28%\n",
            "Epoch [0], Batch [200/313], Loss: 0.7550, Accuracy: 75.21%\n",
            "Epoch 0 Validation Loss: 0.5514, Validation Accuracy: 80.50%\n",
            "Epoch [1], Batch [0/313], Loss: 0.5761, Accuracy: 78.12%\n",
            "Epoch [1], Batch [200/313], Loss: 0.5297, Accuracy: 81.28%\n",
            "Epoch 1 Validation Loss: 0.4800, Validation Accuracy: 83.55%\n",
            "Epoch [2], Batch [0/313], Loss: 0.3332, Accuracy: 89.84%\n",
            "Epoch [2], Batch [200/313], Loss: 0.4738, Accuracy: 83.52%\n",
            "Epoch 2 Validation Loss: 0.4618, Validation Accuracy: 83.83%\n",
            "Epoch [3], Batch [0/313], Loss: 0.5345, Accuracy: 80.47%\n",
            "Epoch [3], Batch [200/313], Loss: 0.4306, Accuracy: 84.76%\n",
            "Epoch 3 Validation Loss: 0.4519, Validation Accuracy: 84.08%\n",
            "Epoch [4], Batch [0/313], Loss: 0.2539, Accuracy: 89.84%\n",
            "Epoch [4], Batch [200/313], Loss: 0.3952, Accuracy: 86.11%\n",
            "Epoch 4 Validation Loss: 0.4603, Validation Accuracy: 83.55%\n",
            "Epoch [5], Batch [0/313], Loss: 0.3833, Accuracy: 85.94%\n",
            "Epoch [5], Batch [200/313], Loss: 0.3742, Accuracy: 86.58%\n",
            "Epoch 5 Validation Loss: 0.4591, Validation Accuracy: 83.83%\n",
            "Epoch [6], Batch [0/313], Loss: 0.3581, Accuracy: 90.62%\n",
            "Epoch [6], Batch [200/313], Loss: 0.3469, Accuracy: 87.72%\n",
            "Epoch 6 Validation Loss: 0.4557, Validation Accuracy: 83.90%\n",
            "Epoch [7], Batch [0/313], Loss: 0.3604, Accuracy: 86.72%\n",
            "Epoch [7], Batch [200/313], Loss: 0.3243, Accuracy: 88.30%\n",
            "Epoch 7 Validation Loss: 0.4599, Validation Accuracy: 84.13%\n",
            "Epoch [8], Batch [0/313], Loss: 0.2715, Accuracy: 90.62%\n",
            "Epoch [8], Batch [200/313], Loss: 0.3035, Accuracy: 89.13%\n",
            "Epoch 8 Validation Loss: 0.4737, Validation Accuracy: 84.34%\n",
            "Epoch [9], Batch [0/313], Loss: 0.2896, Accuracy: 92.19%\n",
            "Epoch [9], Batch [200/313], Loss: 0.2849, Accuracy: 89.72%\n",
            "Epoch 9 Validation Loss: 0.4642, Validation Accuracy: 84.37%\n",
            " Training time = 1019.37 seconds\n"
          ]
        },
        {
          "output_type": "display_data",
          "data": {
            "text/plain": [
              "<Figure size 1200x500 with 2 Axes>"
            ],
            "image/png": "[encoded data removed]"
          },
          "metadata": {}
        }
      ]
    },
    {
      "cell_type": "markdown",
      "source": [
        "#### Comment\n",
        "\n",
        "As seen from the results THE BEST PERFORMING MODEL with Validation Accuracy: 84.37%"
      ],
      "metadata": {
        "id": "QUBqiTNNFKi9"
      }
    },
    {
      "cell_type": "markdown",
      "source": [
        "<font size = 6 color = red > You did not show the Test Accuracy?\n",
        "\n",
        "You could have fine-tuned the convolutional layers as well. </font>"
      ],
      "metadata": {
        "id": "vFUDi25N4qcL"
      }
    },
    {
      "cell_type": "markdown",
      "source": [
        "<font size = 6 color = red > Good </font>"
      ],
      "metadata": {
        "id": "8p9wa92Q36zw"
      }
    }
  ]
}